{
 "cells": [
  {
   "cell_type": "code",
   "execution_count": 1,
   "metadata": {},
   "outputs": [],
   "source": [
    "import pandas as pd\n",
    "from bs4 import BeautifulSoup as bs\n",
    "import requests\n",
    "from pprint import pprint\n",
    "from splinter import Browser\n",
    "from tqdm import tqdm_notebook "
   ]
  },
  {
   "cell_type": "code",
   "execution_count": 2,
   "metadata": {},
   "outputs": [],
   "source": [
    "#setting up path to chrome driver for splinter\n",
    "executable_path={'executable_path':'chromedriver.exe'}"
   ]
  },
  {
   "cell_type": "code",
   "execution_count": 3,
   "metadata": {},
   "outputs": [],
   "source": [
    "#stats scrape - get list of urls to scrape to get team stats\n",
    "url_stats='http://www.milb.com/milb/stats/'\n",
    "response_2=requests.get(url_stats)\n",
    "soup_2=bs(response_2.content, 'lxml')\n",
    "\n",
    "team_urls=[]\n",
    "team_aaa_international=soup_2.find('li', id='league_117_bg')\n",
    "teams_list_international=team_aaa_international.find('div', class_='teams-list')\n",
    "\n",
    "international_team_urls=teams_list_international.find_all('a', href=True)\n",
    "team_urls={}\n",
    "for i, link in enumerate(international_team_urls):\n",
    "    team_name=link.text\n",
    "    team_urls[team_name]=[link['href'], i]"
   ]
  },
  {
   "cell_type": "code",
   "execution_count": 4,
   "metadata": {},
   "outputs": [],
   "source": [
    "batting_columns=['Name',\n",
    "                 'id',\n",
    "                 'POS',\n",
    "                 'G',\n",
    "                 'AB',\n",
    "                 'R',\n",
    "                 'H',\n",
    "                 '2B',\n",
    "                 '3B',\n",
    "                 'HR',\n",
    "                 'RBI',\n",
    "                 'TB',\n",
    "                 'BB',\n",
    "                 'SO',\n",
    "                 'SB',\n",
    "                 'CS',\n",
    "                 'OBP',\n",
    "                 'SLG',\n",
    "                 'AVG',\n",
    "                 'OPS']\n",
    "\n",
    "pitching_columns=['Name',\n",
    "                  'id',\n",
    "                  'W',\n",
    "                  'L',\n",
    "                  'ERA',\n",
    "                  'G',\n",
    "                  'GS',\n",
    "                  'CG',\n",
    "                  'SHO',\n",
    "                  'SV',\n",
    "                  'IP',\n",
    "                  'H',\n",
    "                  'R',\n",
    "                  'ER',\n",
    "                  'HR',\n",
    "                  'HB',\n",
    "                  'BB',\n",
    "                  'SO',\n",
    "                  'WHIP',\n",
    "                  'HLD',\n",
    "                  'GF']"
   ]
  },
  {
   "cell_type": "code",
   "execution_count": 5,
   "metadata": {},
   "outputs": [
    {
     "data": {
      "application/vnd.jupyter.widget-view+json": {
       "model_id": "2d7b7a0956184f7d8acc723b1c9d6dd8",
       "version_major": 2,
       "version_minor": 0
      },
      "text/plain": [
       "HBox(children=(IntProgress(value=0, max=14), HTML(value='')))"
      ]
     },
     "metadata": {},
     "output_type": "display_data"
    },
    {
     "name": "stdout",
     "output_type": "stream",
     "text": [
      "\n"
     ]
    }
   ],
   "source": [
    "pitching_dfs=[]\n",
    "batting_dfs=[]\n",
    "\n",
    "for team_name, values in tqdm_notebook(team_urls.items()):\n",
    "    \n",
    "    url=values[0]\n",
    "    team_index=values[1]\n",
    "    \n",
    "    browser = Browser('chrome', **executable_path, headless=False)\n",
    "    browser.visit(url)\n",
    "\n",
    "    html = browser.html\n",
    "    soup = bs(html, 'lxml')\n",
    "    \n",
    "    ##### BATTING TABLE #########\n",
    "    batting_table=soup.find('div', id='stats_data_ibp_hitting')\n",
    "    batting_trs=batting_table.find_all('tr')\n",
    "\n",
    "    batting_stats=[]\n",
    "    for tr in batting_trs:\n",
    "        td=tr.find_all('td')\n",
    "        row=[tr.text for tr in td]\n",
    "        batting_stats.append(row)\n",
    "   \n",
    "    exec('df_batting_{}=pd.DataFrame(batting_stats, columns=batting_columns)'.format(team_index))\n",
    "    exec('df_batting_{}.dropna(inplace=True)'.format(team_index))\n",
    "    exec('df_batting_{}[\"Team\"]=team_name'.format(team_index))\n",
    "    exec('batting_dfs.append(df_batting_{})'.format(team_index))\n",
    "\n",
    "    ####### PITCHING TABLE #################\n",
    "    pitching_table=soup.find('div', id='stats_data_ibp_pitching')\n",
    "    pitching_trs=pitching_table.find_all('tr')\n",
    "\n",
    "    pitching_stats=[]\n",
    "    for tr in pitching_trs:\n",
    "        td=tr.find_all('td')\n",
    "        row=[tr.text for tr in td]\n",
    "        pitching_stats.append(row)\n",
    "\n",
    "    exec('df_pitching_{}=pd.DataFrame(pitching_stats, columns=pitching_columns)'.format(team_index))\n",
    "    exec('df_pitching_{}.dropna(inplace=True)'.format(team_index))\n",
    "    exec('df_pitching_{}[\"Team\"]=team_name'.format(team_index))\n",
    "    exec('pitching_dfs.append(df_pitching_{})'.format(team_index))\n",
    "    \n",
    "    #close browser\n",
    "    browser.quit()\n"
   ]
  },
  {
   "cell_type": "code",
   "execution_count": 6,
   "metadata": {},
   "outputs": [],
   "source": [
    "df_pitching=pd.concat(pitching_dfs)\n",
    "df_batting=pd.concat(batting_dfs)\n",
    "\n",
    "df_batting.reset_index(inplace=True, drop=True)\n",
    "df_pitching.reset_index(inplace=True, drop=True)\n",
    "\n",
    "df_batting.to_csv('./Data_Output/batting.csv', index=False)\n",
    "df_pitching.to_csv('./Data_Output/pitching.csv', index=False)"
   ]
  }
 ],
 "metadata": {
  "kernelspec": {
   "display_name": "Python 3",
   "language": "python",
   "name": "python3"
  },
  "language_info": {
   "codemirror_mode": {
    "name": "ipython",
    "version": 3
   },
   "file_extension": ".py",
   "mimetype": "text/x-python",
   "name": "python",
   "nbconvert_exporter": "python",
   "pygments_lexer": "ipython3",
   "version": "3.6.8"
  }
 },
 "nbformat": 4,
 "nbformat_minor": 2
}
